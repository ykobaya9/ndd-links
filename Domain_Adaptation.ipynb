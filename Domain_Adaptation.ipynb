{
 "cells": [
  {
   "cell_type": "code",
   "execution_count": 13,
   "metadata": {},
   "outputs": [],
   "source": [
    "import scipy.io\n",
    "import keras\n",
    "import numpy as np\n",
    "import random\n",
    "import matplotlib.pyplot as plt\n",
    "from skimage import color\n",
    "import ardent\n",
    "\n",
    "train_mat = scipy.io.loadmat('/Users/yutakobayashi/Desktop/FA2020/NDD/train_32x32.mat')\n",
    "test_mat = scipy.io.loadmat('/Users/yutakobayashi/Desktop/FA2020/NDD/test_32x32.mat')\n",
    "(X_train, y_train), (X_test, y_test) = keras.datasets.mnist.load_data()"
   ]
  },
  {
   "cell_type": "code",
   "execution_count": 17,
   "metadata": {},
   "outputs": [],
   "source": [
    "train_x = train_mat.get('X')\n",
    "test_x = test_mat.get('X')\n",
    "data_x_svhn = np.concatenate([train_x, test_x], axis=3)\n",
    "train_y = train_mat.get('y')\n",
    "test_y = test_mat.get('y')\n",
    "data_y_svhn = np.concatenate([train_y, test_y]).reshape(-1)\n",
    "data_x_svhn = data_x_svhn.transpose((3,0,1,2))\n",
    "#data_x_svhn = data_x_svhn.reshape((data_x_svhn.shape[0], data_x_svhn.shape[1]*data_x_svhn.shape[2]*data_x_svhn.shape[3]))"
   ]
  },
  {
   "cell_type": "code",
   "execution_count": 7,
   "metadata": {},
   "outputs": [],
   "source": [
    "data_x_mnist = np.concatenate([X_train, X_test])\n",
    "#data_x_mnist = data_x_mnist.reshape((data_x_mnist.shape[0], data_x_mnist.shape[1] * data_x_mnist.shape[2]))\n",
    "data_y_mnist = np.concatenate([y_train, y_test]).reshape(-1)"
   ]
  },
  {
   "cell_type": "code",
   "execution_count": 16,
   "metadata": {},
   "outputs": [
    {
     "data": {
      "text/plain": [
       "<matplotlib.image.AxesImage at 0x1403784c0>"
      ]
     },
     "execution_count": 16,
     "metadata": {},
     "output_type": "execute_result"
    },
    {
     "data": {
      "image/png": "[encoded data removed]",
      "text/plain": [
       "<Figure size 432x288 with 1 Axes>"
      ]
     },
     "metadata": {
      "needs_background": "light"
     },
     "output_type": "display_data"
    },
    {
     "data": {
      "image/png": "[encoded data removed]",
      "text/plain": [
       "<Figure size 432x288 with 1 Axes>"
      ]
     },
     "metadata": {
      "needs_background": "light"
     },
     "output_type": "display_data"
    }
   ],
   "source": [
    "plt.imshow(data_x_svhn[1])\n",
    "plt.figure()\n",
    "plt.imshow(data_x_mnist[0])"
   ]
  },
  {
   "cell_type": "code",
   "execution_count": null,
   "metadata": {},
   "outputs": [],
   "source": [
    "\n",
    "\n",
    "lddmm_register_kwargs = dict(\n",
    "            template=template,\n",
    "            target=target,\n",
    "            num_iterations=150,\n",
    "            num_affine_only_iterations=0,\n",
    "            affine_stepsize=0,\n",
    "            deformative_stepsize=0.5,\n",
    "        )\n",
    "\n",
    "output = lddmm_register(lddmm_register_kwargs)"
   ]
  },
  {
   "cell_type": "code",
   "execution_count": 4,
   "metadata": {},
   "outputs": [],
   "source": [
    "from proglearn.progressive_learner import ProgressiveLearner\n",
    "from proglearn.deciders import SimpleArgmaxAverage\n",
    "from proglearn.transformers import TreeClassificationTransformer, NeuralClassificationTransformer\n",
    "from proglearn.voters import TreeClassificationVoter, KNNClassificationVoter\n",
    "\n",
    "from joblib import Parallel, delayed\n",
    "import time\n",
    "from itertools import product\n",
    "import pandas as pd"
   ]
  },
  {
   "cell_type": "code",
   "execution_count": 14,
   "metadata": {},
   "outputs": [],
   "source": [
    "def cross_val_data(data_x_mnist, data_y_mnist, data_x_svhn, data_y_svhn, total_cls=10):\n",
    "    x = data_x_mnist.copy()\n",
    "    y = data_y_mnist.copy()\n",
    "    x2 = data_x_svhn.copy()\n",
    "    y2 = data_y_svhn.copy()\n",
    "    idx = [np.where(y == u)[0] for u in np.unique(y)]\n",
    "    idx2 = [np.where(y2 == u)[0] for u in np.unique(y2)]\n",
    "\n",
    "    for i in range(total_cls):\n",
    "        indx = idx[i]#np.roll(idx[i],(cv-1)*100)\n",
    "        indx2 = idx2[i]\n",
    "        random.shuffle(indx)\n",
    "        random.shuffle(indx2)\n",
    "\n",
    "        if i==0:\n",
    "            train_x1 = x[indx[0:500],:]\n",
    "            train_x2 = x2[indx2[0:500],:]\n",
    "            train_y1 = y[indx[0:500]]\n",
    "            train_y2 = y2[indx2[0:500]]\n",
    "\n",
    "            test_x = x[indx[500:600],:]\n",
    "            test_y = y[indx[500:600]]\n",
    "        else:\n",
    "            train_x1 = np.concatenate((train_x1, x[indx[0:500],:]), axis=0)\n",
    "            train_x2 = np.concatenate((train_x2, x2[indx2[0:500],:]), axis=0)\n",
    "            train_y1 = np.concatenate((train_y1, y[indx[0:500]]), axis=0)\n",
    "            train_y2 = np.concatenate((train_y2, y2[indx2[0:500]]), axis=0)\n",
    "\n",
    "            test_x = np.concatenate((test_x, x[indx[500:600],:]), axis=0)\n",
    "            test_y = np.concatenate((test_y, y[indx[500:600]]), axis=0)\n",
    "\n",
    "\n",
    "    return train_x1, train_y1, train_x2, train_y2, test_x, test_y"
   ]
  },
  {
   "cell_type": "code",
   "execution_count": 22,
   "metadata": {},
   "outputs": [],
   "source": [
    "def LF_experiment(train_x1, train_y1, train_x2, train_y2, test_x, test_y, ntrees, shift, slot, num_points_per_task, acorn=None):\n",
    "\n",
    "    df = pd.DataFrame()\n",
    "  \n",
    "    default_transformer_class = TreeClassificationTransformer\n",
    "    default_transformer_kwargs = {\"kwargs\" : {\"max_depth\" : 30}}\n",
    "\n",
    "    default_voter_class = TreeClassificationVoter\n",
    "    default_voter_kwargs = {}\n",
    "\n",
    "    default_decider_class = SimpleArgmaxAverage\n",
    "    progressive_learner = ProgressiveLearner(default_transformer_class = default_transformer_class,\n",
    "                                         default_transformer_kwargs = default_transformer_kwargs,\n",
    "                                         default_voter_class = default_voter_class,\n",
    "                                         default_voter_kwargs = default_voter_kwargs,\n",
    "                                         default_decider_class = default_decider_class)\n",
    "\n",
    "    errors = np.zeros(2)\n",
    "    \n",
    "    if acorn is not None:\n",
    "        np.random.seed(acorn)\n",
    "\n",
    "    progressive_learner.add_task(\n",
    "        X = train_x1,\n",
    "        y = train_y1,\n",
    "        decider_kwargs = {\"classes\" : np.unique(train_y1)},\n",
    "        voter_kwargs = {\"classes\" : np.unique(train_y1)}\n",
    "    )\n",
    "\n",
    "    progressive_learner.add_transformer(\n",
    "        X = train_x2,\n",
    "        y = train_y2,\n",
    "        decider_kwargs = {\"classes\" : np.unique(train_y2)},\n",
    "        voter_kwargs = {\"classes\" : np.unique(train_y2)},\n",
    "        backward_task_ids = [0]\n",
    "    )\n",
    "\n",
    "    llf_task1=progressive_learner.predict(test_x, task_id=0)\n",
    "    llf_single_task=progressive_learner.predict(test_x, task_id=0, transformer_ids=[0])\n",
    "    \n",
    "    errors[1] = errors[1]+(1 - np.mean(llf_task1 == test_y))\n",
    "    errors[0] = errors[0]+(1 - np.mean(llf_single_task == test_y))\n",
    "\n",
    "    print(\"Errors: {}\".format(errors))"
   ]
  },
  {
   "cell_type": "code",
   "execution_count": 23,
   "metadata": {},
   "outputs": [],
   "source": [
    "def run_parallel_exp(data_x, data_y, data_x2, data_y2, n_trees, slot=0, shift=1):\n",
    "    train_x1, train_y1, train_x2, train_y2, test_x, test_y = cross_val_data(data_x, data_y, data_x2, data_y2)\n",
    "    LF_experiment(train_x1, train_y1, train_x2, train_y2, test_x, test_y, n_trees, shift, slot, num_points_per_task, acorn=12345)\n",
    "    \n",
    "    #return df"
   ]
  },
  {
   "cell_type": "code",
   "execution_count": 24,
   "metadata": {},
   "outputs": [
    {
     "name": "stderr",
     "output_type": "stream",
     "text": [
      "[Parallel(n_jobs=-2)]: Using backend LokyBackend with 7 concurrent workers.\n",
      "[Parallel(n_jobs=-2)]: Done   8 out of  10 | elapsed:   20.6s remaining:    5.1s\n"
     ]
    },
    {
     "ename": "ValueError",
     "evalue": "Number of features of the model must match the input. Model n_features is 3072 and input n_features is 784 ",
     "output_type": "error",
     "traceback": [
      "\u001b[0;31m---------------------------------------------------------------------------\u001b[0m",
      "\u001b[0;31m_RemoteTraceback\u001b[0m                          Traceback (most recent call last)",
      "\u001b[0;31m_RemoteTraceback\u001b[0m: \n\"\"\"\nTraceback (most recent call last):\n  File \"/Users/yutakobayashi/prog_env/lib/python3.8/site-packages/joblib/externals/loky/process_executor.py\", line 431, in _process_worker\n    r = call_item()\n  File \"/Users/yutakobayashi/prog_env/lib/python3.8/site-packages/joblib/externals/loky/process_executor.py\", line 285, in __call__\n    return self.fn(*self.args, **self.kwargs)\n  File \"/Users/yutakobayashi/prog_env/lib/python3.8/site-packages/joblib/_parallel_backends.py\", line 595, in __call__\n    return self.func(*args, **kwargs)\n  File \"/Users/yutakobayashi/prog_env/lib/python3.8/site-packages/joblib/parallel.py\", line 252, in __call__\n    return [func(*args, **kwargs)\n  File \"/Users/yutakobayashi/prog_env/lib/python3.8/site-packages/joblib/parallel.py\", line 252, in <listcomp>\n    return [func(*args, **kwargs)\n  File \"<ipython-input-23-b71c2a38e8eb>\", line 3, in run_parallel_exp\n  File \"<ipython-input-22-c02a9800ad0e>\", line 30, in LF_experiment\n  File \"/Users/yutakobayashi/progressive-learning/proglearn/progressive_learner.py\", line 642, in add_task\n    self.add_transformer(\n  File \"/Users/yutakobayashi/progressive-learning/proglearn/progressive_learner.py\", line 542, in add_transformer\n    self.set_voter(transformer_id=transformer_id, task_id=existing_task_id)\n  File \"/Users/yutakobayashi/progressive-learning/proglearn/progressive_learner.py\", line 390, in set_voter\n    transformer.transform(X[voter_data_idx]), y[voter_data_idx]\n  File \"/Users/yutakobayashi/progressive-learning/proglearn/transformers.py\", line 233, in transform\n    return self.transformer.apply(X)\n  File \"/Users/yutakobayashi/prog_env/lib/python3.8/site-packages/sklearn/tree/_classes.py\", line 480, in apply\n    X = self._validate_X_predict(X, check_input)\n  File \"/Users/yutakobayashi/prog_env/lib/python3.8/site-packages/sklearn/tree/_classes.py\", line 396, in _validate_X_predict\n    raise ValueError(\"Number of features of the model must \"\nValueError: Number of features of the model must match the input. Model n_features is 3072 and input n_features is 784 \n\"\"\"",
      "\nThe above exception was the direct cause of the following exception:\n",
      "\u001b[0;31mValueError\u001b[0m                                Traceback (most recent call last)",
      "\u001b[0;32m<ipython-input-24-75d7bc42b283>\u001b[0m in \u001b[0;36m<module>\u001b[0;34m\u001b[0m\n\u001b[1;32m     11\u001b[0m \u001b[0;31m#df_list = run_parallel_exp(data_x_svhn, data_y_svhn, 20, num_points_per_task, slot=0, shift=0)\u001b[0m\u001b[0;34m\u001b[0m\u001b[0;34m\u001b[0m\u001b[0;34m\u001b[0m\u001b[0m\n\u001b[1;32m     12\u001b[0m \u001b[0;34m\u001b[0m\u001b[0m\n\u001b[0;32m---> 13\u001b[0;31m df_list = Parallel(n_jobs=-2,verbose=1)(\n\u001b[0m\u001b[1;32m     14\u001b[0m     delayed(run_parallel_exp)(\n\u001b[1;32m     15\u001b[0m             \u001b[0mdata_x_mnist\u001b[0m\u001b[0;34m,\u001b[0m \u001b[0mdata_y_mnist\u001b[0m\u001b[0;34m,\u001b[0m \u001b[0mdata_x_svhn\u001b[0m\u001b[0;34m,\u001b[0m \u001b[0mdata_y_svhn\u001b[0m\u001b[0;34m,\u001b[0m \u001b[0mntree\u001b[0m\u001b[0;34m,\u001b[0m \u001b[0mslot\u001b[0m\u001b[0;34m=\u001b[0m\u001b[0mslot\u001b[0m\u001b[0;34m,\u001b[0m \u001b[0mshift\u001b[0m\u001b[0;34m=\u001b[0m\u001b[0mshift\u001b[0m\u001b[0;34m\u001b[0m\u001b[0;34m\u001b[0m\u001b[0m\n",
      "\u001b[0;32m~/prog_env/lib/python3.8/site-packages/joblib/parallel.py\u001b[0m in \u001b[0;36m__call__\u001b[0;34m(self, iterable)\u001b[0m\n\u001b[1;32m   1040\u001b[0m \u001b[0;34m\u001b[0m\u001b[0m\n\u001b[1;32m   1041\u001b[0m             \u001b[0;32mwith\u001b[0m \u001b[0mself\u001b[0m\u001b[0;34m.\u001b[0m\u001b[0m_backend\u001b[0m\u001b[0;34m.\u001b[0m\u001b[0mretrieval_context\u001b[0m\u001b[0;34m(\u001b[0m\u001b[0;34m)\u001b[0m\u001b[0;34m:\u001b[0m\u001b[0;34m\u001b[0m\u001b[0;34m\u001b[0m\u001b[0m\n\u001b[0;32m-> 1042\u001b[0;31m                 \u001b[0mself\u001b[0m\u001b[0;34m.\u001b[0m\u001b[0mretrieve\u001b[0m\u001b[0;34m(\u001b[0m\u001b[0;34m)\u001b[0m\u001b[0;34m\u001b[0m\u001b[0;34m\u001b[0m\u001b[0m\n\u001b[0m\u001b[1;32m   1043\u001b[0m             \u001b[0;31m# Make sure that we get a last message telling us we are done\u001b[0m\u001b[0;34m\u001b[0m\u001b[0;34m\u001b[0m\u001b[0;34m\u001b[0m\u001b[0m\n\u001b[1;32m   1044\u001b[0m             \u001b[0melapsed_time\u001b[0m \u001b[0;34m=\u001b[0m \u001b[0mtime\u001b[0m\u001b[0;34m.\u001b[0m\u001b[0mtime\u001b[0m\u001b[0;34m(\u001b[0m\u001b[0;34m)\u001b[0m \u001b[0;34m-\u001b[0m \u001b[0mself\u001b[0m\u001b[0;34m.\u001b[0m\u001b[0m_start_time\u001b[0m\u001b[0;34m\u001b[0m\u001b[0;34m\u001b[0m\u001b[0m\n",
      "\u001b[0;32m~/prog_env/lib/python3.8/site-packages/joblib/parallel.py\u001b[0m in \u001b[0;36mretrieve\u001b[0;34m(self)\u001b[0m\n\u001b[1;32m    919\u001b[0m             \u001b[0;32mtry\u001b[0m\u001b[0;34m:\u001b[0m\u001b[0;34m\u001b[0m\u001b[0;34m\u001b[0m\u001b[0m\n\u001b[1;32m    920\u001b[0m                 \u001b[0;32mif\u001b[0m \u001b[0mgetattr\u001b[0m\u001b[0;34m(\u001b[0m\u001b[0mself\u001b[0m\u001b[0;34m.\u001b[0m\u001b[0m_backend\u001b[0m\u001b[0;34m,\u001b[0m \u001b[0;34m'supports_timeout'\u001b[0m\u001b[0;34m,\u001b[0m \u001b[0;32mFalse\u001b[0m\u001b[0;34m)\u001b[0m\u001b[0;34m:\u001b[0m\u001b[0;34m\u001b[0m\u001b[0;34m\u001b[0m\u001b[0m\n\u001b[0;32m--> 921\u001b[0;31m                     \u001b[0mself\u001b[0m\u001b[0;34m.\u001b[0m\u001b[0m_output\u001b[0m\u001b[0;34m.\u001b[0m\u001b[0mextend\u001b[0m\u001b[0;34m(\u001b[0m\u001b[0mjob\u001b[0m\u001b[0;34m.\u001b[0m\u001b[0mget\u001b[0m\u001b[0;34m(\u001b[0m\u001b[0mtimeout\u001b[0m\u001b[0;34m=\u001b[0m\u001b[0mself\u001b[0m\u001b[0;34m.\u001b[0m\u001b[0mtimeout\u001b[0m\u001b[0;34m)\u001b[0m\u001b[0;34m)\u001b[0m\u001b[0;34m\u001b[0m\u001b[0;34m\u001b[0m\u001b[0m\n\u001b[0m\u001b[1;32m    922\u001b[0m                 \u001b[0;32melse\u001b[0m\u001b[0;34m:\u001b[0m\u001b[0;34m\u001b[0m\u001b[0;34m\u001b[0m\u001b[0m\n\u001b[1;32m    923\u001b[0m                     \u001b[0mself\u001b[0m\u001b[0;34m.\u001b[0m\u001b[0m_output\u001b[0m\u001b[0;34m.\u001b[0m\u001b[0mextend\u001b[0m\u001b[0;34m(\u001b[0m\u001b[0mjob\u001b[0m\u001b[0;34m.\u001b[0m\u001b[0mget\u001b[0m\u001b[0;34m(\u001b[0m\u001b[0;34m)\u001b[0m\u001b[0;34m)\u001b[0m\u001b[0;34m\u001b[0m\u001b[0;34m\u001b[0m\u001b[0m\n",
      "\u001b[0;32m~/prog_env/lib/python3.8/site-packages/joblib/_parallel_backends.py\u001b[0m in \u001b[0;36mwrap_future_result\u001b[0;34m(future, timeout)\u001b[0m\n\u001b[1;32m    540\u001b[0m         AsyncResults.get from multiprocessing.\"\"\"\n\u001b[1;32m    541\u001b[0m         \u001b[0;32mtry\u001b[0m\u001b[0;34m:\u001b[0m\u001b[0;34m\u001b[0m\u001b[0;34m\u001b[0m\u001b[0m\n\u001b[0;32m--> 542\u001b[0;31m             \u001b[0;32mreturn\u001b[0m \u001b[0mfuture\u001b[0m\u001b[0;34m.\u001b[0m\u001b[0mresult\u001b[0m\u001b[0;34m(\u001b[0m\u001b[0mtimeout\u001b[0m\u001b[0;34m=\u001b[0m\u001b[0mtimeout\u001b[0m\u001b[0;34m)\u001b[0m\u001b[0;34m\u001b[0m\u001b[0;34m\u001b[0m\u001b[0m\n\u001b[0m\u001b[1;32m    543\u001b[0m         \u001b[0;32mexcept\u001b[0m \u001b[0mCfTimeoutError\u001b[0m \u001b[0;32mas\u001b[0m \u001b[0me\u001b[0m\u001b[0;34m:\u001b[0m\u001b[0;34m\u001b[0m\u001b[0;34m\u001b[0m\u001b[0m\n\u001b[1;32m    544\u001b[0m             \u001b[0;32mraise\u001b[0m \u001b[0mTimeoutError\u001b[0m \u001b[0;32mfrom\u001b[0m \u001b[0me\u001b[0m\u001b[0;34m\u001b[0m\u001b[0;34m\u001b[0m\u001b[0m\n",
      "\u001b[0;32m~/anaconda3/lib/python3.8/concurrent/futures/_base.py\u001b[0m in \u001b[0;36mresult\u001b[0;34m(self, timeout)\u001b[0m\n\u001b[1;32m    437\u001b[0m                 \u001b[0;32mraise\u001b[0m \u001b[0mCancelledError\u001b[0m\u001b[0;34m(\u001b[0m\u001b[0;34m)\u001b[0m\u001b[0;34m\u001b[0m\u001b[0;34m\u001b[0m\u001b[0m\n\u001b[1;32m    438\u001b[0m             \u001b[0;32melif\u001b[0m \u001b[0mself\u001b[0m\u001b[0;34m.\u001b[0m\u001b[0m_state\u001b[0m \u001b[0;34m==\u001b[0m \u001b[0mFINISHED\u001b[0m\u001b[0;34m:\u001b[0m\u001b[0;34m\u001b[0m\u001b[0;34m\u001b[0m\u001b[0m\n\u001b[0;32m--> 439\u001b[0;31m                 \u001b[0;32mreturn\u001b[0m \u001b[0mself\u001b[0m\u001b[0;34m.\u001b[0m\u001b[0m__get_result\u001b[0m\u001b[0;34m(\u001b[0m\u001b[0;34m)\u001b[0m\u001b[0;34m\u001b[0m\u001b[0;34m\u001b[0m\u001b[0m\n\u001b[0m\u001b[1;32m    440\u001b[0m             \u001b[0;32melse\u001b[0m\u001b[0;34m:\u001b[0m\u001b[0;34m\u001b[0m\u001b[0;34m\u001b[0m\u001b[0m\n\u001b[1;32m    441\u001b[0m                 \u001b[0;32mraise\u001b[0m \u001b[0mTimeoutError\u001b[0m\u001b[0;34m(\u001b[0m\u001b[0;34m)\u001b[0m\u001b[0;34m\u001b[0m\u001b[0;34m\u001b[0m\u001b[0m\n",
      "\u001b[0;32m~/anaconda3/lib/python3.8/concurrent/futures/_base.py\u001b[0m in \u001b[0;36m__get_result\u001b[0;34m(self)\u001b[0m\n\u001b[1;32m    386\u001b[0m     \u001b[0;32mdef\u001b[0m \u001b[0m__get_result\u001b[0m\u001b[0;34m(\u001b[0m\u001b[0mself\u001b[0m\u001b[0;34m)\u001b[0m\u001b[0;34m:\u001b[0m\u001b[0;34m\u001b[0m\u001b[0;34m\u001b[0m\u001b[0m\n\u001b[1;32m    387\u001b[0m         \u001b[0;32mif\u001b[0m \u001b[0mself\u001b[0m\u001b[0;34m.\u001b[0m\u001b[0m_exception\u001b[0m\u001b[0;34m:\u001b[0m\u001b[0;34m\u001b[0m\u001b[0;34m\u001b[0m\u001b[0m\n\u001b[0;32m--> 388\u001b[0;31m             \u001b[0;32mraise\u001b[0m \u001b[0mself\u001b[0m\u001b[0;34m.\u001b[0m\u001b[0m_exception\u001b[0m\u001b[0;34m\u001b[0m\u001b[0;34m\u001b[0m\u001b[0m\n\u001b[0m\u001b[1;32m    389\u001b[0m         \u001b[0;32melse\u001b[0m\u001b[0;34m:\u001b[0m\u001b[0;34m\u001b[0m\u001b[0;34m\u001b[0m\u001b[0m\n\u001b[1;32m    390\u001b[0m             \u001b[0;32mreturn\u001b[0m \u001b[0mself\u001b[0m\u001b[0;34m.\u001b[0m\u001b[0m_result\u001b[0m\u001b[0;34m\u001b[0m\u001b[0;34m\u001b[0m\u001b[0m\n",
      "\u001b[0;31mValueError\u001b[0m: Number of features of the model must match the input. Model n_features is 3072 and input n_features is 784 "
     ]
    }
   ],
   "source": [
    "num_points_per_task = 500\n",
    "shifts = 2\n",
    "num_slots = int(5000 // num_points_per_task)\n",
    "slot_fold = range(int(5000 // num_points_per_task))\n",
    "\n",
    "n_trees=[20] # Number of trees in UF\n",
    "\n",
    "shift_fold = range(1,shifts,1) # Number of shifts\n",
    "iterable = product(n_trees,shift_fold,slot_fold)\n",
    "\n",
    "#df_list = run_parallel_exp(data_x_svhn, data_y_svhn, 20, num_points_per_task, slot=0, shift=0)\n",
    "\n",
    "df_list = Parallel(n_jobs=-2,verbose=1)(\n",
    "    delayed(run_parallel_exp)(\n",
    "            data_x_mnist, data_y_mnist, data_x_svhn, data_y_svhn, ntree, slot=slot, shift=shift\n",
    "            ) for ntree,shift,slot in iterable\n",
    "            )"
   ]
  },
  {
   "cell_type": "code",
   "execution_count": 11,
   "metadata": {},
   "outputs": [
    {
     "name": "stdout",
     "output_type": "stream",
     "text": [
      "[None, None, None, None, None, None, None, None, None, None]\n"
     ]
    },
    {
     "ename": "TypeError",
     "evalue": "'NoneType' object is not subscriptable",
     "output_type": "error",
     "traceback": [
      "\u001b[0;31m---------------------------------------------------------------------------\u001b[0m",
      "\u001b[0;31mTypeError\u001b[0m                                 Traceback (most recent call last)",
      "\u001b[0;32m<ipython-input-11-3b5b8aefa598>\u001b[0m in \u001b[0;36m<module>\u001b[0;34m\u001b[0m\n\u001b[1;32m      4\u001b[0m \u001b[0;32mfrom\u001b[0m \u001b[0mtutorials\u001b[0m\u001b[0;34m.\u001b[0m\u001b[0mfunctions\u001b[0m\u001b[0;34m.\u001b[0m\u001b[0mlabel_shuffle_functions\u001b[0m \u001b[0;32mimport\u001b[0m \u001b[0mplot_bte\u001b[0m\u001b[0;34m\u001b[0m\u001b[0;34m\u001b[0m\u001b[0m\n\u001b[1;32m      5\u001b[0m \u001b[0;34m\u001b[0m\u001b[0m\n\u001b[0;32m----> 6\u001b[0;31m \u001b[0mbtes\u001b[0m \u001b[0;34m=\u001b[0m \u001b[0mcalc_bte\u001b[0m\u001b[0;34m(\u001b[0m\u001b[0mdf_list\u001b[0m\u001b[0;34m,\u001b[0m \u001b[0mnum_slots\u001b[0m\u001b[0;34m,\u001b[0m \u001b[0mshifts\u001b[0m\u001b[0;34m)\u001b[0m\u001b[0;34m\u001b[0m\u001b[0;34m\u001b[0m\u001b[0m\n\u001b[0m\u001b[1;32m      7\u001b[0m \u001b[0mplot_bte\u001b[0m\u001b[0;34m(\u001b[0m\u001b[0mbtes\u001b[0m\u001b[0;34m)\u001b[0m\u001b[0;34m\u001b[0m\u001b[0;34m\u001b[0m\u001b[0m\n",
      "\u001b[0;32m~/progressive-learning/tutorials/functions/label_shuffle_functions.py\u001b[0m in \u001b[0;36mcalc_bte\u001b[0;34m(df_list, slots, shifts)\u001b[0m\n\u001b[1;32m    232\u001b[0m                     \u001b[0;36m1\u001b[0m\u001b[0;34m\u001b[0m\u001b[0;34m\u001b[0m\u001b[0m\n\u001b[1;32m    233\u001b[0m                     - np.array(\n\u001b[0;32m--> 234\u001b[0;31m                         \u001b[0mmultitask_df\u001b[0m\u001b[0;34m[\u001b[0m\u001b[0mmultitask_df\u001b[0m\u001b[0;34m[\u001b[0m\u001b[0;34m\"task\"\u001b[0m\u001b[0;34m]\u001b[0m \u001b[0;34m==\u001b[0m \u001b[0mii\u001b[0m \u001b[0;34m+\u001b[0m \u001b[0;36m1\u001b[0m\u001b[0;34m]\u001b[0m\u001b[0;34m[\u001b[0m\u001b[0;34m\"task_1_accuracy\"\u001b[0m\u001b[0;34m]\u001b[0m\u001b[0;34m\u001b[0m\u001b[0;34m\u001b[0m\u001b[0m\n\u001b[0m\u001b[1;32m    235\u001b[0m                     )\n\u001b[1;32m    236\u001b[0m                 )\n",
      "\u001b[0;31mTypeError\u001b[0m: 'NoneType' object is not subscriptable"
     ]
    }
   ],
   "source": [
    "print(df_list)\n",
    "\n",
    "from tutorials.functions.label_shuffle_functions import calc_bte\n",
    "from tutorials.functions.label_shuffle_functions import plot_bte\n",
    "\n",
    "btes = calc_bte(df_list, num_slots, shifts)\n",
    "plot_bte(btes)"
   ]
  },
  {
   "cell_type": "code",
   "execution_count": null,
   "metadata": {},
   "outputs": [],
   "source": []
  }
 ],
 "metadata": {
  "kernelspec": {
   "display_name": "Python 3",
   "language": "python",
   "name": "python3"
  },
  "language_info": {
   "codemirror_mode": {
    "name": "ipython",
    "version": 3
   },
   "file_extension": ".py",
   "mimetype": "text/x-python",
   "name": "python",
   "nbconvert_exporter": "python",
   "pygments_lexer": "ipython3",
   "version": "3.8.3"
  }
 },
 "nbformat": 4,
 "nbformat_minor": 4
}
